{
 "metadata": {
  "name": ""
 },
 "nbformat": 3,
 "nbformat_minor": 0,
 "worksheets": [
  {
   "cells": [
    {
     "cell_type": "code",
     "collapsed": false,
     "input": [
      "import random\n",
      "import copy\n",
      "\n",
      "import thwart_utils as tu\n",
      "from chiplotle import *\n",
      "from chiplotle.tools.plottertools import instantiate_virtual_plotter\n",
      "from chiplotle.hpgl.commands import PA, PR, PU, PD"
     ],
     "language": "python",
     "metadata": {},
     "outputs": [],
     "prompt_number": 1
    },
    {
     "cell_type": "code",
     "collapsed": false,
     "input": [
      "plotter = instantiate_virtual_plotter((0,0), (20000,15000))\n",
      "plotter.set_origin_bottom_left()\n",
      "\n",
      "center = plotter.margins.soft.center"
     ],
     "language": "python",
     "metadata": {},
     "outputs": [
      {
       "output_type": "stream",
       "stream": "stdout",
       "text": [
        "\n",
        "Instantiated plotter HP7475A in port VirtualSerialPort:\n",
        "   Drawing limits: (left 0; bottom 0; right 20000; top 15000)\n",
        "   Buffer Size: 4611686018427387904\n"
       ]
      }
     ],
     "prompt_number": 2
    },
    {
     "cell_type": "code",
     "collapsed": false,
     "input": [
      "files = tu.search_to_hpgl(\"art\", \"images/art/\", num_sets = 3)\n",
      "random.shuffle(files)\n",
      "print files"
     ],
     "language": "python",
     "metadata": {},
     "outputs": [
      {
       "output_type": "stream",
       "stream": "stdout",
       "text": [
        "operation failed for images/art/tmp.bmp\n",
        "couldn't do image_to_bmp() for images/art/2.gif\n",
        "uh oh, couldn't save images/art/art_1.hpgl\n",
        "['images/art/art_1.hpgl', 'images/art/art_6.hpgl', 'images/art/art_5.hpgl', 'images/art/art_0.hpgl', 'images/art/art_2.hpgl', 'images/art/art_7.hpgl', 'images/art/art_8.hpgl', 'images/art/art_4.hpgl', 'images/art/art_10.hpgl', 'images/art/art_9.hpgl', 'images/art/art_3.hpgl']"
       ]
      },
      {
       "output_type": "stream",
       "stream": "stdout",
       "text": [
        "\n"
       ]
      }
     ],
     "prompt_number": 7
    },
    {
     "cell_type": "code",
     "collapsed": false,
     "input": [
      "files = ['images/carrot/carrot_1.hpgl', 'images/carrot/carrot_2.hpgl', 'images/carrot/carrot_3.hpgl', 'images/carrot/carrot_0.hpgl']"
     ],
     "language": "python",
     "metadata": {},
     "outputs": [],
     "prompt_number": 3
    },
    {
     "cell_type": "code",
     "collapsed": false,
     "input": [
      "orig = tu.clean_commands_from_file(files[0])\n",
      "print \"length:\", len(orig)"
     ],
     "language": "python",
     "metadata": {},
     "outputs": [
      {
       "output_type": "stream",
       "stream": "stdout",
       "text": [
        "*** WARNING: PU(xy=CoordinateArray(<1430,4462>)) with coordinates found without prior PA or PR. PA assumed.\n",
        "length:"
       ]
      },
      {
       "output_type": "stream",
       "stream": "stdout",
       "text": [
        " 17847\n"
       ]
      }
     ],
     "prompt_number": 8
    },
    {
     "cell_type": "code",
     "collapsed": false,
     "input": [
      "plotter.clear()\n",
      "\n",
      "munged = tu.munge(orig, 25, connect = False)\n",
      "plotter.write(munged)\n",
      "\n",
      "io.view(plotter)"
     ],
     "language": "python",
     "metadata": {},
     "outputs": [
      {
       "output_type": "stream",
       "stream": "stdout",
       "text": [
        "w: 4497 h: 4467\n"
       ]
      }
     ],
     "prompt_number": 9
    },
    {
     "cell_type": "code",
     "collapsed": false,
     "input": [],
     "language": "python",
     "metadata": {},
     "outputs": [],
     "prompt_number": 68
    },
    {
     "cell_type": "code",
     "collapsed": false,
     "input": [],
     "language": "python",
     "metadata": {},
     "outputs": [],
     "prompt_number": 30
    },
    {
     "cell_type": "code",
     "collapsed": false,
     "input": [],
     "language": "python",
     "metadata": {},
     "outputs": [],
     "prompt_number": 32
    },
    {
     "cell_type": "code",
     "collapsed": false,
     "input": [],
     "language": "python",
     "metadata": {},
     "outputs": [],
     "prompt_number": 43
    },
    {
     "cell_type": "code",
     "collapsed": false,
     "input": [],
     "language": "python",
     "metadata": {},
     "outputs": [],
     "prompt_number": 21
    },
    {
     "cell_type": "code",
     "collapsed": false,
     "input": [],
     "language": "python",
     "metadata": {},
     "outputs": [
      {
       "metadata": {},
       "output_type": "pyout",
       "prompt_number": 32,
       "text": [
        "5623"
       ]
      }
     ],
     "prompt_number": 32
    },
    {
     "cell_type": "code",
     "collapsed": false,
     "input": [],
     "language": "python",
     "metadata": {},
     "outputs": [],
     "prompt_number": 10
    },
    {
     "cell_type": "code",
     "collapsed": false,
     "input": [],
     "language": "python",
     "metadata": {},
     "outputs": [],
     "prompt_number": 10
    },
    {
     "cell_type": "code",
     "collapsed": false,
     "input": [],
     "language": "python",
     "metadata": {},
     "outputs": [],
     "prompt_number": 10
    },
    {
     "cell_type": "code",
     "collapsed": false,
     "input": [],
     "language": "python",
     "metadata": {},
     "outputs": [],
     "prompt_number": 10
    },
    {
     "cell_type": "code",
     "collapsed": false,
     "input": [],
     "language": "python",
     "metadata": {},
     "outputs": [],
     "prompt_number": 15
    },
    {
     "cell_type": "code",
     "collapsed": false,
     "input": [],
     "language": "python",
     "metadata": {},
     "outputs": []
    }
   ],
   "metadata": {}
  }
 ]
}