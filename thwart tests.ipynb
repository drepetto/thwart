{
 "metadata": {
  "name": ""
 },
 "nbformat": 3,
 "nbformat_minor": 0,
 "worksheets": [
  {
   "cells": [
    {
     "cell_type": "code",
     "collapsed": false,
     "input": [
      "import random\n",
      "import copy\n",
      "import math\n",
      "\n",
      "import thwart_utils as tu\n",
      "from chiplotle import *\n",
      "from chiplotle.tools.plottertools import instantiate_virtual_plotter\n",
      "from chiplotle.hpgl.commands import PA, PR, PU, PD"
     ],
     "language": "python",
     "metadata": {},
     "outputs": [],
     "prompt_number": 1
    },
    {
     "cell_type": "code",
     "collapsed": false,
     "input": [
      "plotter = instantiate_virtual_plotter((0,0), (20000,15000))\n",
      "plotter.set_origin_bottom_left()\n",
      "\n",
      "center = plotter.margins.soft.center"
     ],
     "language": "python",
     "metadata": {},
     "outputs": [
      {
       "output_type": "stream",
       "stream": "stdout",
       "text": [
        "\n",
        "Instantiated plotter HP7475A in port VirtualSerialPort:\n",
        "   Drawing limits: (left 0; bottom 0; right 20000; top 15000)\n",
        "   Buffer Size: 4611686018427387904\n"
       ]
      }
     ],
     "prompt_number": 2
    },
    {
     "cell_type": "code",
     "collapsed": false,
     "input": [
      "files = tu.search_to_hpgl(\"anime\", \"images/anime/\", num_sets = 3)\n",
      "random.shuffle(files)\n",
      "print files"
     ],
     "language": "python",
     "metadata": {},
     "outputs": [
      {
       "output_type": "stream",
       "stream": "stdout",
       "text": [
        "['images/anime/anime_6.hpgl', 'images/anime/anime_0.hpgl', 'images/anime/anime_9.hpgl', 'images/anime/anime_2.hpgl', 'images/anime/anime_8.hpgl', 'images/anime/anime_7.hpgl', 'images/anime/anime_5.hpgl', 'images/anime/anime_3.hpgl', 'images/anime/anime_4.hpgl', 'images/anime/anime_10.hpgl', 'images/anime/anime_1.hpgl', 'images/anime/anime_11.hpgl']\n"
       ]
      }
     ],
     "prompt_number": 19
    },
    {
     "cell_type": "code",
     "collapsed": false,
     "input": [
      "#files = ['images/ape/ape_2.hpgl', 'images/ape/ape_3.hpgl', 'images/ape/ape_10.hpgl', 'images/ape/ape_4.hpgl', 'images/ape/ape_5.hpgl', 'images/ape/ape_7.hpgl', 'images/ape/ape_9.hpgl', 'images/ape/ape_1.hpgl', 'images/ape/ape_0.hpgl', 'images/ape/ape_6.hpgl', 'images/ape/ape_8.hpgl']"
     ],
     "language": "python",
     "metadata": {},
     "outputs": [],
     "prompt_number": 13
    },
    {
     "cell_type": "code",
     "collapsed": false,
     "input": [
      "orig = tu.clean_commands_from_file(files[0])\n",
      "length = len(orig)\n",
      "\n",
      "print \"length:\", length\n",
      "\n",
      "num_chunks = int(math.log(length))\n",
      "    \n",
      "print \"num_chunks:\", num_chunks\n",
      "\n",
      "if num_chunks > 1:\n",
      "    munged = tu.munge(orig, num_chunks)\n",
      "    plotter.clear()\n",
      "    plotter.write(munged)\n",
      "\n",
      "    io.view(plotter)\n",
      "else:\n",
      "    print \"image too small!\""
     ],
     "language": "python",
     "metadata": {},
     "outputs": [
      {
       "output_type": "stream",
       "stream": "stdout",
       "text": [
        "*** WARNING: PU(xy=CoordinateArray(<1497,11192>)) with coordinates found without prior PA or PR. PA assumed.\n",
        "length:"
       ]
      },
      {
       "output_type": "stream",
       "stream": "stdout",
       "text": [
        " 25480\n",
        "num_chunks: 10\n",
        "w:"
       ]
      },
      {
       "output_type": "stream",
       "stream": "stdout",
       "text": [
        " 9000 h: 11259\n"
       ]
      }
     ],
     "prompt_number": 21
    },
    {
     "cell_type": "code",
     "collapsed": false,
     "input": [],
     "language": "python",
     "metadata": {},
     "outputs": [
      {
       "metadata": {},
       "output_type": "pyout",
       "prompt_number": 41,
       "text": [
        "10.60346137843835"
       ]
      }
     ],
     "prompt_number": 41
    },
    {
     "cell_type": "code",
     "collapsed": false,
     "input": [
      "plotter.clear()\n",
      "plotter.write(orig)\n",
      "io.view(plotter)"
     ],
     "language": "python",
     "metadata": {},
     "outputs": [],
     "prompt_number": 6
    },
    {
     "cell_type": "code",
     "collapsed": false,
     "input": [
      "35000/25"
     ],
     "language": "python",
     "metadata": {},
     "outputs": [
      {
       "metadata": {},
       "output_type": "pyout",
       "prompt_number": 9,
       "text": [
        "1400"
       ]
      }
     ],
     "prompt_number": 9
    },
    {
     "cell_type": "code",
     "collapsed": false,
     "input": [],
     "language": "python",
     "metadata": {},
     "outputs": [],
     "prompt_number": 32
    },
    {
     "cell_type": "code",
     "collapsed": false,
     "input": [],
     "language": "python",
     "metadata": {},
     "outputs": [],
     "prompt_number": 43
    },
    {
     "cell_type": "code",
     "collapsed": false,
     "input": [],
     "language": "python",
     "metadata": {},
     "outputs": [],
     "prompt_number": 21
    },
    {
     "cell_type": "code",
     "collapsed": false,
     "input": [],
     "language": "python",
     "metadata": {},
     "outputs": [
      {
       "metadata": {},
       "output_type": "pyout",
       "prompt_number": 32,
       "text": [
        "5623"
       ]
      }
     ],
     "prompt_number": 32
    },
    {
     "cell_type": "code",
     "collapsed": false,
     "input": [],
     "language": "python",
     "metadata": {},
     "outputs": [],
     "prompt_number": 10
    },
    {
     "cell_type": "code",
     "collapsed": false,
     "input": [],
     "language": "python",
     "metadata": {},
     "outputs": [],
     "prompt_number": 10
    },
    {
     "cell_type": "code",
     "collapsed": false,
     "input": [],
     "language": "python",
     "metadata": {},
     "outputs": [],
     "prompt_number": 10
    },
    {
     "cell_type": "code",
     "collapsed": false,
     "input": [],
     "language": "python",
     "metadata": {},
     "outputs": [],
     "prompt_number": 10
    },
    {
     "cell_type": "code",
     "collapsed": false,
     "input": [],
     "language": "python",
     "metadata": {},
     "outputs": [],
     "prompt_number": 15
    },
    {
     "cell_type": "code",
     "collapsed": false,
     "input": [],
     "language": "python",
     "metadata": {},
     "outputs": []
    }
   ],
   "metadata": {}
  }
 ]
}